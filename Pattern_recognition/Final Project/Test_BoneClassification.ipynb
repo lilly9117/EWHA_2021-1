{
  "nbformat": 4,
  "nbformat_minor": 0,
  "metadata": {
    "colab": {
      "name": "Test_BoneClassification_reference_1870091최혜빈.ipynb",
      "provenance": [],
      "collapsed_sections": []
    },
    "kernelspec": {
      "name": "python3",
      "display_name": "Python 3"
    },
    "accelerator": "GPU"
  },
  "cells": [
    {
      "cell_type": "code",
      "metadata": {
        "colab": {
          "base_uri": "https://localhost:8080/"
        },
        "id": "UXWM-SkrVc8_",
        "outputId": "7938b74b-36ef-47e6-ec61-fedc75983a58"
      },
      "source": [
        "from google.colab import drive\n",
        "drive.mount('/content/drive')"
      ],
      "execution_count": 1,
      "outputs": [
        {
          "output_type": "stream",
          "text": [
            "Mounted at /content/drive\n"
          ],
          "name": "stdout"
        }
      ]
    },
    {
      "cell_type": "code",
      "metadata": {
        "id": "Bp5-Fo2T_alH"
      },
      "source": [
        "import numpy as np\n",
        "import matplotlib\n",
        "import matplotlib.pyplot as plt\n",
        "import matplotlib.patches as mpatches\n",
        "import torch\n",
        "from torch import nn\n",
        "from torch import optim\n",
        "import torch.optim as optim\n",
        "import torch.nn.functional as F\n",
        "from torchvision import transforms, models"
      ],
      "execution_count": 2,
      "outputs": []
    },
    {
      "cell_type": "code",
      "metadata": {
        "id": "ei87CgD3_1aR"
      },
      "source": [
        "from torch.autograd import Variable\n",
        "import torch.utils.data as data\n",
        "import pandas as pd\n",
        "import os\n",
        "from PIL import Image\n",
        "from torch.utils.data import DataLoader, TensorDataset\n"
      ],
      "execution_count": 3,
      "outputs": []
    },
    {
      "cell_type": "code",
      "metadata": {
        "id": "rTImOCj-Zeop"
      },
      "source": [
        "# Path for (unlabeled) test data\n",
        "test_path = '/content/drive/MyDrive/패턴-TermProject/TestImages/'"
      ],
      "execution_count": 4,
      "outputs": []
    },
    {
      "cell_type": "code",
      "metadata": {
        "id": "04e4sQjMZTpz",
        "colab": {
          "base_uri": "https://localhost:8080/"
        },
        "outputId": "43726b0f-d85b-4399-dac8-c2e8083f80ef"
      },
      "source": [
        "# Prepare test data set\n",
        "\n",
        "data =[]\n",
        "label =[]\n",
        "resize = transforms.Compose([transforms.CenterCrop(450)]) #crop to 400\n",
        "\n",
        "files = os.listdir(test_path)\n",
        "files.sort(); # so that resutls can be printed in the order of 'test01', 'test02', ... 'test80'\n",
        "\n",
        "print(files)\n",
        "\n",
        "for f in files:\n",
        "  img = Image.open(test_path+'/'+f,'r')\n",
        "  img = resize(img)\n",
        "  r,g,b = img.split()\n",
        "  one_img = np.asarray(np.float32(r)/255.0)\n",
        "  img = np.asarray([one_img])\n",
        "  data.append(img)\n",
        "  label.append(1) # dummy numbers (not to be used anyway)\n",
        "\n",
        "data = np.array(data, dtype='float32')\n",
        "label = np.array(label, dtype='int64')\n",
        "\n",
        "test_X = torch.from_numpy(data)\n",
        "test_Y = torch.from_numpy(label)\n",
        "\n",
        "test_X = test_X.type(torch.cuda.FloatTensor)\n",
        "test_Y = test_Y.type(torch.cuda.LongTensor)\n",
        "\n",
        "test_dataset = TensorDataset(test_X, test_Y)\n",
        "#test_dataset = TensorDataset(test_X)\n",
        "test_loader = DataLoader(test_dataset, batch_size = 20, shuffle=False) # set batch size to 80 to print all the predictions in one vector\n",
        "\n"
      ],
      "execution_count": 5,
      "outputs": [
        {
          "output_type": "stream",
          "text": [
            "['test01.jpg', 'test02.jpg', 'test03.jpg', 'test04.jpg', 'test05.jpg', 'test06.jpg', 'test07.jpg', 'test08.jpg', 'test09.jpg', 'test10.jpg', 'test11.jpg', 'test12.jpg', 'test13.jpg', 'test14.jpg', 'test15.jpg', 'test16.jpg', 'test17.jpg', 'test18.jpg', 'test19.jpg', 'test20.jpg', 'test21.jpg', 'test22.jpg', 'test23.jpg', 'test24.jpg', 'test25.jpg', 'test26.jpg', 'test27.jpg', 'test28.jpg', 'test29.jpg', 'test30.jpg', 'test31.jpg', 'test32.jpg', 'test33.jpg', 'test34.jpg', 'test35.jpg', 'test36.jpg', 'test37.jpg', 'test38.jpg', 'test39.jpg', 'test40.jpg', 'test41.jpg', 'test42.jpg', 'test43.jpg', 'test44.jpg', 'test45.jpg', 'test46.jpg', 'test47.jpg', 'test48.jpg', 'test49.jpg', 'test50.jpg', 'test51.jpg', 'test52.jpg', 'test53.jpg', 'test54.jpg', 'test55.jpg', 'test56.jpg', 'test57.jpg', 'test58.jpg', 'test59.jpg', 'test60.jpg', 'test61.jpg', 'test62.jpg', 'test63.jpg', 'test64.jpg', 'test65.jpg', 'test66.jpg', 'test67.jpg', 'test68.jpg', 'test69.jpg', 'test70.jpg', 'test71.jpg', 'test72.jpg', 'test73.jpg', 'test74.jpg', 'test75.jpg', 'test76.jpg', 'test77.jpg', 'test78.jpg', 'test79.jpg', 'test80.jpg', 'test81.jpg', 'test82.jpg', 'test83.jpg', 'test84.jpg', 'test85.jpg', 'test86.jpg', 'test87.jpg', 'test88.jpg', 'test89.jpg', 'test90.jpg']\n"
          ],
          "name": "stdout"
        }
      ]
    },
    {
      "cell_type": "code",
      "metadata": {
        "id": "y2En2mL7ABQ4"
      },
      "source": [
        "class VGG(nn.Module):\n",
        "    def __init__(self, features, num_classes=2, init_weights=True):\n",
        "        super(VGG, self).__init__()\n",
        "        \n",
        "        self.features = features #convolution\n",
        "        \n",
        "        self.avgpool = nn.AdaptiveAvgPool2d((7, 7))\n",
        "        \n",
        "        self.classifier = nn.Sequential(\n",
        "            nn.Linear(12544, 4096),\n",
        "            nn.ReLU(True),\n",
        "            nn.Dropout(),\n",
        "            nn.Linear(4096, 4096),\n",
        "            nn.ReLU(True),\n",
        "            nn.Dropout(),\n",
        "            nn.Linear(4096, num_classes),\n",
        "        )#FC layer\n",
        "        \n",
        "        if init_weights:\n",
        "            self._initialize_weights()\n",
        "\n",
        "    def forward(self, x):\n",
        "        x = self.features(x) #Convolution \n",
        "        x = self.avgpool(x) # avgpool\n",
        "        x = x.view(x.size(0), -1) #\n",
        "        x = self.classifier(x) #FC layer\n",
        "        return x\n",
        "\n",
        "    def _initialize_weights(self):\n",
        "        for m in self.modules():\n",
        "            if isinstance(m, nn.Conv2d):\n",
        "                nn.init.kaiming_normal_(m.weight, mode='fan_out', nonlinearity='relu')\n",
        "                if m.bias is not None:\n",
        "                    nn.init.constant_(m.bias, 0)\n",
        "            elif isinstance(m, nn.BatchNorm2d):\n",
        "                nn.init.constant_(m.weight, 1)\n",
        "                nn.init.constant_(m.bias, 0)\n",
        "            elif isinstance(m, nn.Linear):\n",
        "                nn.init.normal_(m.weight, 0, 0.01)\n",
        "                nn.init.constant_(m.bias, 0)\n",
        "\n",
        "def make_layers(cfg, batch_norm=False):\n",
        "    layers = []\n",
        "    in_channels = 1\n",
        "    \n",
        "    for v in cfg:\n",
        "        if v == 'M':\n",
        "            layers += [nn.MaxPool2d(kernel_size=2, stride=2)]\n",
        "        else:\n",
        "            conv2d = nn.Conv2d(in_channels, v, kernel_size=3, padding=1)\n",
        "            if batch_norm:\n",
        "                layers += [conv2d, nn.BatchNorm2d(v), nn.ReLU(inplace=True)]\n",
        "            else:\n",
        "                layers += [conv2d, nn.ReLU(inplace=True)]\n",
        "            in_channels = v\n",
        "                     \n",
        "    return nn.Sequential(*layers)\n",
        "    \n",
        "cfg = { 'custom' : [64,'M',128,'M',256,256,'M']}\n",
        "\n",
        "model = VGG(make_layers(cfg['custom']), num_classes=2, init_weights=True)"
      ],
      "execution_count": 6,
      "outputs": []
    },
    {
      "cell_type": "code",
      "metadata": {
        "id": "tnxXbcwm_kkp"
      },
      "source": [
        "model = torch.load('/content/drive/MyDrive/패턴-TermProject/model_vgg_epoch37.pth')"
      ],
      "execution_count": 7,
      "outputs": []
    },
    {
      "cell_type": "code",
      "metadata": {
        "colab": {
          "base_uri": "https://localhost:8080/"
        },
        "id": "ANTTpqtThHQ1",
        "outputId": "76bef75f-5a37-41b2-d9e1-ba558d8aecd8"
      },
      "source": [
        "model.eval()\n",
        "criterion = nn.CrossEntropyLoss()\n",
        "\n",
        "for inputs, labels in test_loader:\n",
        "    inputs, labels = Variable(inputs), Variable(labels)\n",
        "    output = model(inputs)\n",
        "    idx, pred = output.max(1)\n",
        "    pred = (pred.detach().cpu().numpy())\n",
        "    print('Test results : {}'.format(pred))\n",
        "    # print(pred)"
      ],
      "execution_count": 13,
      "outputs": [
        {
          "output_type": "stream",
          "text": [
            "Test results : [0 0 1 1 0 1 0 1 0 0 0 1 0 0 0 1 0 0 0 0]\n",
            "Test results : [0 1 0 0 1 1 0 0 1 1 0 1 0 1 1 1 1 0 1 1]\n",
            "Test results : [0 0 0 0 1 0 1 1 1 0 1 0 0 0 0 0 0 0 1 1]\n",
            "Test results : [0 1 1 0 0 1 0 0 1 0 0 1 0 0 0 0 0 1 0 1]\n",
            "Test results : [0 0 0 1 0 1 0 1 0 1]\n"
          ],
          "name": "stdout"
        }
      ]
    },
    {
      "cell_type": "code",
      "metadata": {
        "id": "xYLv3vOlc4zx",
        "colab": {
          "base_uri": "https://localhost:8080/"
        },
        "outputId": "a3a2e3b2-6760-4d26-ec37-be5d71f55c47"
      },
      "source": [
        "all_result = [0,0,1,1,0,1,0,1,0,0,0,1,0,0,0,1,0,0,0,0]\n",
        "all_result += [0,1,0,0,1,1,0,0,1,1,0,1,0,1,1,1,1,0,1,1]\n",
        "all_result += [0,0,0,0,1,0,1,1,1,0,1,0,0,0,0,0,0,0,1,1]\n",
        "all_result += [0,1,1,0,0,1,0,0,1,0,0,1,0,0,0,0,0,1,0,1]\n",
        "all_result += [0,0,0,1,0,1,0,1,0,1]\n",
        "print(all_result)\n",
        "print(len(all_result))"
      ],
      "execution_count": 14,
      "outputs": [
        {
          "output_type": "stream",
          "text": [
            "[0, 0, 1, 1, 0, 1, 0, 1, 0, 0, 0, 1, 0, 0, 0, 1, 0, 0, 0, 0, 0, 1, 0, 0, 1, 1, 0, 0, 1, 1, 0, 1, 0, 1, 1, 1, 1, 0, 1, 1, 0, 0, 0, 0, 1, 0, 1, 1, 1, 0, 1, 0, 0, 0, 0, 0, 0, 0, 1, 1, 0, 1, 1, 0, 0, 1, 0, 0, 1, 0, 0, 1, 0, 0, 0, 0, 0, 1, 0, 1, 0, 0, 0, 1, 0, 1, 0, 1, 0, 1]\n",
            "90\n"
          ],
          "name": "stdout"
        }
      ]
    },
    {
      "cell_type": "code",
      "metadata": {
        "colab": {
          "base_uri": "https://localhost:8080/"
        },
        "id": "QZCmgBnkiQDz",
        "outputId": "a848fb39-4064-432a-85bf-1f567ea36dbb"
      },
      "source": [
        "name = []\n",
        "for i in range(90):\n",
        "  name.append(files[i].split('.')[0])\n",
        "name"
      ],
      "execution_count": 15,
      "outputs": [
        {
          "output_type": "execute_result",
          "data": {
            "text/plain": [
              "['test01',\n",
              " 'test02',\n",
              " 'test03',\n",
              " 'test04',\n",
              " 'test05',\n",
              " 'test06',\n",
              " 'test07',\n",
              " 'test08',\n",
              " 'test09',\n",
              " 'test10',\n",
              " 'test11',\n",
              " 'test12',\n",
              " 'test13',\n",
              " 'test14',\n",
              " 'test15',\n",
              " 'test16',\n",
              " 'test17',\n",
              " 'test18',\n",
              " 'test19',\n",
              " 'test20',\n",
              " 'test21',\n",
              " 'test22',\n",
              " 'test23',\n",
              " 'test24',\n",
              " 'test25',\n",
              " 'test26',\n",
              " 'test27',\n",
              " 'test28',\n",
              " 'test29',\n",
              " 'test30',\n",
              " 'test31',\n",
              " 'test32',\n",
              " 'test33',\n",
              " 'test34',\n",
              " 'test35',\n",
              " 'test36',\n",
              " 'test37',\n",
              " 'test38',\n",
              " 'test39',\n",
              " 'test40',\n",
              " 'test41',\n",
              " 'test42',\n",
              " 'test43',\n",
              " 'test44',\n",
              " 'test45',\n",
              " 'test46',\n",
              " 'test47',\n",
              " 'test48',\n",
              " 'test49',\n",
              " 'test50',\n",
              " 'test51',\n",
              " 'test52',\n",
              " 'test53',\n",
              " 'test54',\n",
              " 'test55',\n",
              " 'test56',\n",
              " 'test57',\n",
              " 'test58',\n",
              " 'test59',\n",
              " 'test60',\n",
              " 'test61',\n",
              " 'test62',\n",
              " 'test63',\n",
              " 'test64',\n",
              " 'test65',\n",
              " 'test66',\n",
              " 'test67',\n",
              " 'test68',\n",
              " 'test69',\n",
              " 'test70',\n",
              " 'test71',\n",
              " 'test72',\n",
              " 'test73',\n",
              " 'test74',\n",
              " 'test75',\n",
              " 'test76',\n",
              " 'test77',\n",
              " 'test78',\n",
              " 'test79',\n",
              " 'test80',\n",
              " 'test81',\n",
              " 'test82',\n",
              " 'test83',\n",
              " 'test84',\n",
              " 'test85',\n",
              " 'test86',\n",
              " 'test87',\n",
              " 'test88',\n",
              " 'test89',\n",
              " 'test90']"
            ]
          },
          "metadata": {
            "tags": []
          },
          "execution_count": 15
        }
      ]
    },
    {
      "cell_type": "code",
      "metadata": {
        "colab": {
          "base_uri": "https://localhost:8080/"
        },
        "id": "O4XOx-ePipIl",
        "outputId": "487199a7-3036-4406-a67c-f237113712cc"
      },
      "source": [
        "cd /content/drive/MyDrive/패턴-TermProject"
      ],
      "execution_count": 20,
      "outputs": [
        {
          "output_type": "stream",
          "text": [
            "/content/drive/MyDrive/패턴-TermProject\n"
          ],
          "name": "stdout"
        }
      ]
    },
    {
      "cell_type": "code",
      "metadata": {
        "id": "VtKJ3d10jqKG"
      },
      "source": [
        "# csv 파일로 저장\n",
        "\n",
        "import csv\n",
        "\n",
        "with open('result.csv', 'w', newline='') as f: \n",
        "  writer = csv.writer(f) \n",
        "  for i in range(len(name)):\n",
        "    temp = [name[i], all_result[i]]\n",
        "    writer.writerow(temp) \n"
      ],
      "execution_count": 22,
      "outputs": []
    }
  ]
}