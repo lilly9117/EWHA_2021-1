{
  "nbformat": 4,
  "nbformat_minor": 0,
  "metadata": {
    "colab": {
      "name": "shallowNN_a.ipynb",
      "provenance": [],
      "collapsed_sections": []
    },
    "kernelspec": {
      "name": "python3",
      "display_name": "Python 3"
    },
    "accelerator": "GPU"
  },
  "cells": [
    {
      "cell_type": "code",
      "metadata": {
        "colab": {
          "base_uri": "https://localhost:8080/"
        },
        "id": "qC5zhSOyXLpv",
        "outputId": "e5717fde-e84d-4f39-894d-a017a4dfa3d9"
      },
      "source": [
        "from google.colab import drive\n",
        "drive.mount('/content/drive')"
      ],
      "execution_count": 1,
      "outputs": [
        {
          "output_type": "stream",
          "text": [
            "Mounted at /content/drive\n"
          ],
          "name": "stdout"
        }
      ]
    },
    {
      "cell_type": "code",
      "metadata": {
        "id": "0Xv5LvqCnq80"
      },
      "source": [
        "#Library\n",
        "\n",
        "import torch\n",
        "import numpy as np\n",
        "from torch.autograd import Variable\n",
        "from torch.utils.data import Dataset,DataLoader\n",
        "import matplotlib.pyplot as plt"
      ],
      "execution_count": 2,
      "outputs": []
    },
    {
      "cell_type": "code",
      "metadata": {
        "id": "GoEsGmmYoanx"
      },
      "source": [
        "#Make a dataset\n",
        "\n",
        "class CoordinateDataset(Dataset):   \n",
        "    def __init__(self):\n",
        "        #Enter the address of data\n",
        "        csvData=np.loadtxt('/content/drive/MyDrive/패턴과제/data_spiral.csv',delimiter=',',dtype=np.float32)\n",
        "        self.len=csvData.shape[0]\n",
        "        self.X=torch.from_numpy(csvData[:,:2]) #coordinates\n",
        "        self.Y=torch.from_numpy(csvData[:,-1]).type(torch.LongTensor) #class\n",
        "        \n",
        "    def __getitem__(self,index):\n",
        "        return self.X[index], self.Y[index]\n",
        "    \n",
        "    def __len__(self):\n",
        "        return self.len\n",
        "    \n",
        "dataset = CoordinateDataset()\n",
        "train_loader = DataLoader(dataset = dataset,\n",
        "                         batch_size=32,\n",
        "                         shuffle=True,\n",
        "                         num_workers=0)"
      ],
      "execution_count": 3,
      "outputs": []
    },
    {
      "cell_type": "code",
      "metadata": {
        "id": "jPF-HJSA9sl_",
        "colab": {
          "base_uri": "https://localhost:8080/",
          "height": 282
        },
        "outputId": "b8ef88ef-7800-4d40-f2eb-596911131920"
      },
      "source": [
        "#Display the data\n",
        "#Not required\n",
        "\n",
        "#Enter the address of data\n",
        "data=np.loadtxt('/content/drive/MyDrive/패턴과제/data_spiral.csv',delimiter=',',dtype=np.float32)\n",
        "\n",
        "zeroData=np.zeros((400,2))\n",
        "oneData=np.zeros((400,2))\n",
        "\n",
        "for i in range(data.shape[0]):\n",
        "  if (data[i,-1]==0):\n",
        "    zeroData[i,0]=data[i,0]\n",
        "    zeroData[i,1]=data[i,1]\n",
        "  else:\n",
        "    oneData[i,0]=data[i,0]\n",
        "    oneData[i,1]=data[i,1]\n",
        "\n",
        "plt.scatter(zeroData[:,0],zeroData[:,1],c='r')\n",
        "plt.scatter(oneData[:,0],oneData[:,1],c='b')"
      ],
      "execution_count": 5,
      "outputs": [
        {
          "output_type": "execute_result",
          "data": {
            "text/plain": [
              "<matplotlib.collections.PathCollection at 0x7f22d364e890>"
            ]
          },
          "metadata": {
            "tags": []
          },
          "execution_count": 5
        },
        {
          "output_type": "display_data",
          "data": {
            "image/png": "[encoded data removed]",
            "text/plain": [
              "<Figure size 432x288 with 1 Axes>"
            ]
          },
          "metadata": {
            "tags": [],
            "needs_background": "light"
          }
        }
      ]
    },
    {
      "cell_type": "code",
      "metadata": {
        "id": "66d3YA4doc8k"
      },
      "source": [
        "#Make a model\n",
        "\n",
        "class Net(torch.nn.Module):\n",
        "    \n",
        "    def __init__(self):\n",
        "        super(Net,self).__init__()\n",
        "        self.relu = torch.nn.ReLU()\n",
        "        self.tanh = torch.nn.Tanh()\n",
        "        self.l1=torch.nn.Linear(2,4)\n",
        "        self.l2=torch.nn.Linear(4,8)\n",
        "        self.l3=torch.nn.Linear(8,8)\n",
        "        self.l4=torch.nn.Linear(8,4) \n",
        "        self.l5=torch.nn.Linear(4,2) \n",
        "        \n",
        "        \n",
        "    def forward(self,x):\n",
        "        x = self.relu(self.l1(x))\n",
        "        x = self.relu(self.l2(x))\n",
        "        x = self.relu(self.l3(x))\n",
        "        x = self.relu(self.l4(x))\n",
        "        x = self.l5(x)\n",
        "        return x\n",
        "\n",
        "model = Net()"
      ],
      "execution_count": 9,
      "outputs": []
    },
    {
      "cell_type": "code",
      "metadata": {
        "id": "68zUlW2IofNW",
        "colab": {
          "base_uri": "https://localhost:8080/"
        },
        "outputId": "71f88c23-4481-4192-f398-8bb46622615b"
      },
      "source": [
        "criterion = torch.nn.CrossEntropyLoss()\n",
        "optimizer = torch.optim.Adam(model.parameters(),lr=0.005)\n",
        "\n",
        "# Training loop\n",
        "print(\"START EPOCH\")\n",
        "for epoch in range(100):\n",
        "    #print(\"EPOCH : {} / 100\".format(epoch+1))\n",
        "    for i, data in enumerate(train_loader):\n",
        "        inputs, labels = data\n",
        "        inputs, labels = Variable(inputs), Variable(labels)\n",
        "\n",
        "        y_pred = model(inputs)\n",
        "\n",
        "        loss = criterion(y_pred, labels)\n",
        "        optimizer.zero_grad()\n",
        "        loss.backward()\n",
        "        optimizer.step()\n",
        "print(\"END\")"
      ],
      "execution_count": 10,
      "outputs": [
        {
          "output_type": "stream",
          "text": [
            "START EPOCH\n",
            "END\n"
          ],
          "name": "stdout"
        }
      ]
    },
    {
      "cell_type": "code",
      "metadata": {
        "id": "bx_eX2j2ql21",
        "colab": {
          "base_uri": "https://localhost:8080/",
          "height": 282
        },
        "outputId": "c624bddc-b87c-4c10-e683-5a4d787031ca"
      },
      "source": [
        "#Make a test set and display results\n",
        "#Test set consists of 200*200 points\n",
        "\n",
        "testData = np.zeros((200*200,2))\n",
        "twoD = np.linspace(-10,10,200)\n",
        "a=0\n",
        "for i in range(200):\n",
        "  for j in range(200):\n",
        "    testData[a,0]=twoD[j,]\n",
        "    testData[a,1]=twoD[i,]\n",
        "    a=a+1\n",
        "testData = torch.from_numpy(np.float32(testData))\n",
        "\n",
        "redX = []\n",
        "redY = []\n",
        "blueX = []\n",
        "blueY = []\n",
        "\n",
        "for i, data in enumerate(train_loader):\n",
        "        # get the inputs\n",
        "        inputs, labels = data\n",
        "        # wrap them in Variable\n",
        "        inputs, labels = Variable(inputs), Variable(labels)\n",
        "\n",
        "        # Forward pass: Compute predicted y by passing x to the model\n",
        "        testPred = model(testData)\n",
        "        # Compute and print loss\n",
        "        v,r = testPred.max(1)\n",
        "        r = (r.detach().cpu().numpy())\n",
        "        coor = (testData.detach().cpu().numpy())\n",
        "\n",
        "        for j in range(len(r)):\n",
        "          if (r[j]==0):\n",
        "            redX.append(coor[j][0])\n",
        "            redY.append(coor[j][1])\n",
        "          else:\n",
        "            blueX.append(coor[j][0])\n",
        "            blueY.append(coor[j][1])\n",
        "\n",
        "plt.scatter(redX, redY, c='r')\n",
        "plt.scatter(blueX, blueY, c='b')"
      ],
      "execution_count": 11,
      "outputs": [
        {
          "output_type": "execute_result",
          "data": {
            "text/plain": [
              "<matplotlib.collections.PathCollection at 0x7f22c9243810>"
            ]
          },
          "metadata": {
            "tags": []
          },
          "execution_count": 11
        },
        {
          "output_type": "display_data",
          "data": {
            "image/png": "[encoded data removed]",
            "text/plain": [
              "<Figure size 432x288 with 1 Axes>"
            ]
          },
          "metadata": {
            "tags": [],
            "needs_background": "light"
          }
        }
      ]
    },
    {
      "cell_type": "code",
      "metadata": {
        "id": "ewVAQduLV5GI"
      },
      "source": [
        ""
      ],
      "execution_count": null,
      "outputs": []
    }
  ]
}