{
  "nbformat": 4,
  "nbformat_minor": 0,
  "metadata": {
    "colab": {
      "name": "shallowNN_b.ipynb",
      "provenance": [],
      "collapsed_sections": []
    },
    "kernelspec": {
      "name": "python3",
      "display_name": "Python 3"
    },
    "accelerator": "GPU"
  },
  "cells": [
    {
      "cell_type": "code",
      "metadata": {
        "colab": {
          "base_uri": "https://localhost:8080/"
        },
        "id": "flcv-VN3gNoi",
        "outputId": "a9f10d3a-a28d-4638-fb12-b93adbd0ccef"
      },
      "source": [
        "from google.colab import drive\n",
        "drive.mount('/content/drive')"
      ],
      "execution_count": 1,
      "outputs": [
        {
          "output_type": "stream",
          "text": [
            "Mounted at /content/drive\n"
          ],
          "name": "stdout"
        }
      ]
    },
    {
      "cell_type": "code",
      "metadata": {
        "id": "0Xv5LvqCnq80"
      },
      "source": [
        "#Library\n",
        "\n",
        "import torch\n",
        "import numpy as np\n",
        "from torch.autograd import Variable\n",
        "from torch.utils.data import Dataset,DataLoader\n",
        "import matplotlib.pyplot as plt"
      ],
      "execution_count": 2,
      "outputs": []
    },
    {
      "cell_type": "code",
      "metadata": {
        "id": "GoEsGmmYoanx"
      },
      "source": [
        "#Make a dataset\n",
        "\n",
        "class CoordinateDataset(Dataset):   \n",
        "    def __init__(self):\n",
        "        #Enter the address of data\n",
        "        csvData=np.loadtxt('/content/drive/MyDrive/패턴과제/data_spiral.csv',delimiter=',',dtype=np.float32)\n",
        "        self.len=csvData.shape[0]\n",
        "        self.X=torch.from_numpy(csvData[:,:2]) #coordinates\n",
        "        self.Y=torch.from_numpy(csvData[:,-1]).type(torch.LongTensor) #class\n",
        "        \n",
        "    def __getitem__(self,index):\n",
        "        return self.X[index], self.Y[index]\n",
        "    \n",
        "    def __len__(self):\n",
        "        return self.len\n",
        "    \n",
        "dataset = CoordinateDataset()\n",
        "train_loader = DataLoader(dataset = dataset,\n",
        "                         batch_size=32,\n",
        "                         shuffle=True,\n",
        "                         num_workers=0)"
      ],
      "execution_count": 3,
      "outputs": []
    },
    {
      "cell_type": "code",
      "metadata": {
        "id": "jPF-HJSA9sl_",
        "colab": {
          "base_uri": "https://localhost:8080/",
          "height": 282
        },
        "outputId": "776dbc57-2ff4-497c-a340-6dba43d6a51a"
      },
      "source": [
        "#Display the data\n",
        "#Not required\n",
        "\n",
        "#Enter the address of data\n",
        "data=np.loadtxt('/content/drive/MyDrive/패턴과제/data_spiral.csv',delimiter=',',dtype=np.float32)\n",
        "\n",
        "zeroData=np.zeros((400,2))\n",
        "oneData=np.zeros((400,2))\n",
        "\n",
        "for i in range(data.shape[0]):\n",
        "  if (data[i,-1]==0):\n",
        "    zeroData[i,0]=data[i,0]\n",
        "    zeroData[i,1]=data[i,1]\n",
        "  else:\n",
        "    oneData[i,0]=data[i,0]\n",
        "    oneData[i,1]=data[i,1]\n",
        "\n",
        "plt.scatter(zeroData[:,0],zeroData[:,1],c='r')\n",
        "plt.scatter(oneData[:,0],oneData[:,1],c='b')"
      ],
      "execution_count": 4,
      "outputs": [
        {
          "output_type": "execute_result",
          "data": {
            "text/plain": [
              "<matplotlib.collections.PathCollection at 0x7f36cc202e90>"
            ]
          },
          "metadata": {
            "tags": []
          },
          "execution_count": 4
        },
        {
          "output_type": "display_data",
          "data": {
            "image/png": "[encoded data removed]",
            "text/plain": [
              "<Figure size 432x288 with 1 Axes>"
            ]
          },
          "metadata": {
            "tags": [],
            "needs_background": "light"
          }
        }
      ]
    },
    {
      "cell_type": "code",
      "metadata": {
        "id": "66d3YA4doc8k"
      },
      "source": [
        "#Make a model\n",
        "\n",
        "class Net(torch.nn.Module):\n",
        "    \n",
        "    def __init__(self):\n",
        "        super(Net,self).__init__()\n",
        "        # self.relu = torch.nn.ReLU()\n",
        "        # self.tanh = torch.nn.Tanh()\n",
        "        self.l1=torch.nn.Linear(2,4)\n",
        "        self.l2=torch.nn.Linear(4,8)\n",
        "        self.l3=torch.nn.Linear(8,8)\n",
        "        self.l4=torch.nn.Linear(8,4) \n",
        "        self.l5=torch.nn.Linear(4,2) \n",
        "        \n",
        "        \n",
        "    def forward(self,x):\n",
        "        x = self.l1(x)\n",
        "        x = self.l2(x)\n",
        "        x = self.l3(x)\n",
        "        x = self.l4(x)\n",
        "        x = self.l5(x)\n",
        "        return x\n",
        "\n",
        "model = Net()"
      ],
      "execution_count": 5,
      "outputs": []
    },
    {
      "cell_type": "code",
      "metadata": {
        "id": "68zUlW2IofNW",
        "colab": {
          "base_uri": "https://localhost:8080/"
        },
        "outputId": "984b52be-0c5c-4417-efec-dd8eaf4d1494"
      },
      "source": [
        "criterion = torch.nn.CrossEntropyLoss()\n",
        "optimizer = torch.optim.Adam(model.parameters(),lr=0.005)\n",
        "\n",
        "# Training loop\n",
        "print(\"START EPOCH\")\n",
        "for epoch in range(100):\n",
        "    #print(\"EPOCH : {} / 100\".format(epoch+1))\n",
        "    for i, data in enumerate(train_loader):\n",
        "        inputs, labels = data\n",
        "        inputs, labels = Variable(inputs), Variable(labels)\n",
        "\n",
        "        y_pred = model(inputs)\n",
        "\n",
        "        loss = criterion(y_pred, labels)\n",
        "        optimizer.zero_grad()\n",
        "        loss.backward()\n",
        "        optimizer.step()\n",
        "print(\"END\")"
      ],
      "execution_count": 6,
      "outputs": [
        {
          "output_type": "stream",
          "text": [
            "START EPOCH\n",
            "END\n"
          ],
          "name": "stdout"
        }
      ]
    },
    {
      "cell_type": "code",
      "metadata": {
        "id": "bx_eX2j2ql21",
        "colab": {
          "base_uri": "https://localhost:8080/",
          "height": 282
        },
        "outputId": "3e804f98-d4a5-4914-ba68-05a2c5674a4c"
      },
      "source": [
        "#Make a test set and display results\n",
        "#Test set consists of 200*200 points\n",
        "\n",
        "testData = np.zeros((200*200,2))\n",
        "twoD = np.linspace(-10,10,200)\n",
        "a=0\n",
        "for i in range(200):\n",
        "  for j in range(200):\n",
        "    testData[a,0]=twoD[j,]\n",
        "    testData[a,1]=twoD[i,]\n",
        "    a=a+1\n",
        "testData = torch.from_numpy(np.float32(testData))\n",
        "\n",
        "redX = []\n",
        "redY = []\n",
        "blueX = []\n",
        "blueY = []\n",
        "\n",
        "for i, data in enumerate(train_loader):\n",
        "        # get the inputs\n",
        "        inputs, labels = data\n",
        "        # wrap them in Variable\n",
        "        inputs, labels = Variable(inputs), Variable(labels)\n",
        "\n",
        "        # Forward pass: Compute predicted y by passing x to the model\n",
        "        testPred = model(testData)\n",
        "        # Compute and print loss\n",
        "        v,r = testPred.max(1)\n",
        "        r = (r.detach().cpu().numpy())\n",
        "        coor = (testData.detach().cpu().numpy())\n",
        "\n",
        "        for j in range(len(r)):\n",
        "          if (r[j]==0):\n",
        "            redX.append(coor[j][0])\n",
        "            redY.append(coor[j][1])\n",
        "          else:\n",
        "            blueX.append(coor[j][0])\n",
        "            blueY.append(coor[j][1])\n",
        "\n",
        "plt.scatter(redX, redY, c='r')\n",
        "plt.scatter(blueX, blueY, c='b')"
      ],
      "execution_count": 7,
      "outputs": [
        {
          "output_type": "execute_result",
          "data": {
            "text/plain": [
              "<matplotlib.collections.PathCollection at 0x7f36cbcac8d0>"
            ]
          },
          "metadata": {
            "tags": []
          },
          "execution_count": 7
        },
        {
          "output_type": "display_data",
          "data": {
            "image/png": "[encoded data removed]",
            "text/plain": [
              "<Figure size 432x288 with 1 Axes>"
            ]
          },
          "metadata": {
            "tags": [],
            "needs_background": "light"
          }
        }
      ]
    },
    {
      "cell_type": "code",
      "metadata": {
        "id": "ewVAQduLV5GI"
      },
      "source": [
        ""
      ],
      "execution_count": null,
      "outputs": []
    }
  ]
}