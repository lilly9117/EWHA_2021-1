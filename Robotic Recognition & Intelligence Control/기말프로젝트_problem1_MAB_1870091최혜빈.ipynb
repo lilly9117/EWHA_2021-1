{
 "cells": [
  {
   "cell_type": "markdown",
   "metadata": {},
   "source": [
    "# Identifying Right AD Banner Using MAB"
   ]
  },
  {
   "cell_type": "markdown",
   "metadata": {
    "collapsed": true
   },
   "source": [
    " First, let us import necessary libraries"
   ]
  },
  {
   "cell_type": "code",
   "execution_count": 1,
   "metadata": {
    "ExecuteTime": {
     "end_time": "2021-06-06T04:56:36.983724Z",
     "start_time": "2021-06-06T04:56:35.046405Z"
    },
    "scrolled": true
   },
   "outputs": [],
   "source": [
    "import gym_bandits\n",
    "import gym\n",
    "import numpy as np\n",
    "import pandas as pd\n",
    "import matplotlib.pyplot as plt\n",
    "%matplotlib inline\n",
    "import seaborn as sns\n",
    "env = gym.make(\"BanditTenArmedGaussian-v0\")"
   ]
  },
  {
   "cell_type": "markdown",
   "metadata": {
    "collapsed": true,
    "scrolled": true
   },
   "source": [
    "Let us simulate a dataset with 8*10000 as shape where the column is the ad banner type and rows are either 0 or 1 i.e whether the ad has been clicked or not clicked by the user respectively\n",
    "\n"
   ]
  },
  {
   "cell_type": "code",
   "execution_count": 2,
   "metadata": {
    "ExecuteTime": {
     "end_time": "2021-06-06T04:56:38.145253Z",
     "start_time": "2021-06-06T04:56:38.091981Z"
    }
   },
   "outputs": [],
   "source": [
    "df = pd.DataFrame()\n",
    "df['loc_type_0'] = np.random.randint(0,2,100000)\n",
    "df['loc_type_1'] = np.random.randint(0,2,100000)\n",
    "df['loc_type_2'] = np.random.randint(0,2,100000)\n",
    "df['loc_type_3'] = np.random.randint(0,2,100000)\n",
    "df['loc_type_4'] = np.random.randint(0,2,100000)\n",
    "df['loc_type_5'] = np.random.randint(0,2,100000)\n",
    "df['loc_type_6'] = np.random.randint(0,2,100000)\n",
    "df['loc_type_7'] = np.random.randint(0,2,100000)"
   ]
  },
  {
   "cell_type": "code",
   "execution_count": 3,
   "metadata": {
    "ExecuteTime": {
     "end_time": "2021-06-06T04:56:39.959528Z",
     "start_time": "2021-06-06T04:56:39.928826Z"
    },
    "scrolled": true
   },
   "outputs": [
    {
     "data": {
      "text/html": [
       "<div>\n",
       "<style scoped>\n",
       "    .dataframe tbody tr th:only-of-type {\n",
       "        vertical-align: middle;\n",
       "    }\n",
       "\n",
       "    .dataframe tbody tr th {\n",
       "        vertical-align: top;\n",
       "    }\n",
       "\n",
       "    .dataframe thead th {\n",
       "        text-align: right;\n",
       "    }\n",
       "</style>\n",
       "<table border=\"1\" class=\"dataframe\">\n",
       "  <thead>\n",
       "    <tr style=\"text-align: right;\">\n",
       "      <th></th>\n",
       "      <th>loc_type_0</th>\n",
       "      <th>loc_type_1</th>\n",
       "      <th>loc_type_2</th>\n",
       "      <th>loc_type_3</th>\n",
       "      <th>loc_type_4</th>\n",
       "      <th>loc_type_5</th>\n",
       "      <th>loc_type_6</th>\n",
       "      <th>loc_type_7</th>\n",
       "    </tr>\n",
       "  </thead>\n",
       "  <tbody>\n",
       "    <tr>\n",
       "      <th>0</th>\n",
       "      <td>0</td>\n",
       "      <td>0</td>\n",
       "      <td>1</td>\n",
       "      <td>0</td>\n",
       "      <td>1</td>\n",
       "      <td>0</td>\n",
       "      <td>0</td>\n",
       "      <td>0</td>\n",
       "    </tr>\n",
       "    <tr>\n",
       "      <th>1</th>\n",
       "      <td>0</td>\n",
       "      <td>0</td>\n",
       "      <td>1</td>\n",
       "      <td>0</td>\n",
       "      <td>0</td>\n",
       "      <td>0</td>\n",
       "      <td>0</td>\n",
       "      <td>0</td>\n",
       "    </tr>\n",
       "    <tr>\n",
       "      <th>2</th>\n",
       "      <td>0</td>\n",
       "      <td>1</td>\n",
       "      <td>0</td>\n",
       "      <td>1</td>\n",
       "      <td>0</td>\n",
       "      <td>1</td>\n",
       "      <td>1</td>\n",
       "      <td>1</td>\n",
       "    </tr>\n",
       "    <tr>\n",
       "      <th>3</th>\n",
       "      <td>0</td>\n",
       "      <td>0</td>\n",
       "      <td>0</td>\n",
       "      <td>0</td>\n",
       "      <td>1</td>\n",
       "      <td>0</td>\n",
       "      <td>1</td>\n",
       "      <td>0</td>\n",
       "    </tr>\n",
       "    <tr>\n",
       "      <th>4</th>\n",
       "      <td>0</td>\n",
       "      <td>1</td>\n",
       "      <td>0</td>\n",
       "      <td>1</td>\n",
       "      <td>0</td>\n",
       "      <td>1</td>\n",
       "      <td>0</td>\n",
       "      <td>1</td>\n",
       "    </tr>\n",
       "    <tr>\n",
       "      <th>5</th>\n",
       "      <td>1</td>\n",
       "      <td>0</td>\n",
       "      <td>0</td>\n",
       "      <td>0</td>\n",
       "      <td>1</td>\n",
       "      <td>0</td>\n",
       "      <td>1</td>\n",
       "      <td>0</td>\n",
       "    </tr>\n",
       "    <tr>\n",
       "      <th>6</th>\n",
       "      <td>0</td>\n",
       "      <td>0</td>\n",
       "      <td>0</td>\n",
       "      <td>0</td>\n",
       "      <td>0</td>\n",
       "      <td>1</td>\n",
       "      <td>0</td>\n",
       "      <td>0</td>\n",
       "    </tr>\n",
       "    <tr>\n",
       "      <th>7</th>\n",
       "      <td>0</td>\n",
       "      <td>1</td>\n",
       "      <td>0</td>\n",
       "      <td>1</td>\n",
       "      <td>1</td>\n",
       "      <td>0</td>\n",
       "      <td>0</td>\n",
       "      <td>0</td>\n",
       "    </tr>\n",
       "    <tr>\n",
       "      <th>8</th>\n",
       "      <td>1</td>\n",
       "      <td>0</td>\n",
       "      <td>1</td>\n",
       "      <td>1</td>\n",
       "      <td>0</td>\n",
       "      <td>0</td>\n",
       "      <td>0</td>\n",
       "      <td>0</td>\n",
       "    </tr>\n",
       "    <tr>\n",
       "      <th>9</th>\n",
       "      <td>1</td>\n",
       "      <td>1</td>\n",
       "      <td>1</td>\n",
       "      <td>0</td>\n",
       "      <td>0</td>\n",
       "      <td>1</td>\n",
       "      <td>0</td>\n",
       "      <td>1</td>\n",
       "    </tr>\n",
       "    <tr>\n",
       "      <th>10</th>\n",
       "      <td>1</td>\n",
       "      <td>0</td>\n",
       "      <td>0</td>\n",
       "      <td>1</td>\n",
       "      <td>0</td>\n",
       "      <td>1</td>\n",
       "      <td>1</td>\n",
       "      <td>0</td>\n",
       "    </tr>\n",
       "    <tr>\n",
       "      <th>11</th>\n",
       "      <td>1</td>\n",
       "      <td>0</td>\n",
       "      <td>0</td>\n",
       "      <td>1</td>\n",
       "      <td>1</td>\n",
       "      <td>0</td>\n",
       "      <td>0</td>\n",
       "      <td>0</td>\n",
       "    </tr>\n",
       "    <tr>\n",
       "      <th>12</th>\n",
       "      <td>0</td>\n",
       "      <td>0</td>\n",
       "      <td>0</td>\n",
       "      <td>1</td>\n",
       "      <td>0</td>\n",
       "      <td>1</td>\n",
       "      <td>0</td>\n",
       "      <td>1</td>\n",
       "    </tr>\n",
       "    <tr>\n",
       "      <th>13</th>\n",
       "      <td>0</td>\n",
       "      <td>0</td>\n",
       "      <td>1</td>\n",
       "      <td>0</td>\n",
       "      <td>0</td>\n",
       "      <td>1</td>\n",
       "      <td>0</td>\n",
       "      <td>1</td>\n",
       "    </tr>\n",
       "    <tr>\n",
       "      <th>14</th>\n",
       "      <td>0</td>\n",
       "      <td>1</td>\n",
       "      <td>1</td>\n",
       "      <td>1</td>\n",
       "      <td>1</td>\n",
       "      <td>0</td>\n",
       "      <td>1</td>\n",
       "      <td>0</td>\n",
       "    </tr>\n",
       "    <tr>\n",
       "      <th>15</th>\n",
       "      <td>0</td>\n",
       "      <td>0</td>\n",
       "      <td>1</td>\n",
       "      <td>0</td>\n",
       "      <td>1</td>\n",
       "      <td>0</td>\n",
       "      <td>1</td>\n",
       "      <td>0</td>\n",
       "    </tr>\n",
       "    <tr>\n",
       "      <th>16</th>\n",
       "      <td>1</td>\n",
       "      <td>0</td>\n",
       "      <td>0</td>\n",
       "      <td>1</td>\n",
       "      <td>1</td>\n",
       "      <td>0</td>\n",
       "      <td>0</td>\n",
       "      <td>0</td>\n",
       "    </tr>\n",
       "    <tr>\n",
       "      <th>17</th>\n",
       "      <td>0</td>\n",
       "      <td>0</td>\n",
       "      <td>0</td>\n",
       "      <td>0</td>\n",
       "      <td>1</td>\n",
       "      <td>0</td>\n",
       "      <td>0</td>\n",
       "      <td>0</td>\n",
       "    </tr>\n",
       "    <tr>\n",
       "      <th>18</th>\n",
       "      <td>1</td>\n",
       "      <td>1</td>\n",
       "      <td>1</td>\n",
       "      <td>0</td>\n",
       "      <td>0</td>\n",
       "      <td>0</td>\n",
       "      <td>0</td>\n",
       "      <td>1</td>\n",
       "    </tr>\n",
       "    <tr>\n",
       "      <th>19</th>\n",
       "      <td>1</td>\n",
       "      <td>0</td>\n",
       "      <td>0</td>\n",
       "      <td>0</td>\n",
       "      <td>1</td>\n",
       "      <td>0</td>\n",
       "      <td>1</td>\n",
       "      <td>1</td>\n",
       "    </tr>\n",
       "  </tbody>\n",
       "</table>\n",
       "</div>"
      ],
      "text/plain": [
       "    loc_type_0  loc_type_1  loc_type_2  loc_type_3  loc_type_4  loc_type_5  \\\n",
       "0            0           0           1           0           1           0   \n",
       "1            0           0           1           0           0           0   \n",
       "2            0           1           0           1           0           1   \n",
       "3            0           0           0           0           1           0   \n",
       "4            0           1           0           1           0           1   \n",
       "5            1           0           0           0           1           0   \n",
       "6            0           0           0           0           0           1   \n",
       "7            0           1           0           1           1           0   \n",
       "8            1           0           1           1           0           0   \n",
       "9            1           1           1           0           0           1   \n",
       "10           1           0           0           1           0           1   \n",
       "11           1           0           0           1           1           0   \n",
       "12           0           0           0           1           0           1   \n",
       "13           0           0           1           0           0           1   \n",
       "14           0           1           1           1           1           0   \n",
       "15           0           0           1           0           1           0   \n",
       "16           1           0           0           1           1           0   \n",
       "17           0           0           0           0           1           0   \n",
       "18           1           1           1           0           0           0   \n",
       "19           1           0           0           0           1           0   \n",
       "\n",
       "    loc_type_6  loc_type_7  \n",
       "0            0           0  \n",
       "1            0           0  \n",
       "2            1           1  \n",
       "3            1           0  \n",
       "4            0           1  \n",
       "5            1           0  \n",
       "6            0           0  \n",
       "7            0           0  \n",
       "8            0           0  \n",
       "9            0           1  \n",
       "10           1           0  \n",
       "11           0           0  \n",
       "12           0           1  \n",
       "13           0           1  \n",
       "14           1           0  \n",
       "15           1           0  \n",
       "16           0           0  \n",
       "17           0           0  \n",
       "18           0           1  \n",
       "19           1           1  "
      ]
     },
     "execution_count": 3,
     "metadata": {},
     "output_type": "execute_result"
    }
   ],
   "source": [
    "df.head(20)"
   ]
  },
  {
   "cell_type": "markdown",
   "metadata": {},
   "source": [
    "First, let us initialize necessary variables"
   ]
  },
  {
   "cell_type": "code",
   "execution_count": 4,
   "metadata": {
    "ExecuteTime": {
     "end_time": "2021-06-06T04:56:43.658104Z",
     "start_time": "2021-06-06T04:56:43.651117Z"
    }
   },
   "outputs": [],
   "source": [
    "# number of banners\n",
    "num_loc = 8\n",
    "\n",
    "# number of iterations\n",
    "no_of_iterations = 1000\n",
    "\n",
    "# list for storing banners which are selected\n",
    "loc_selected = []\n",
    "\n",
    "# count number of times the banner was selected\n",
    "count = np.zeros(num_loc)\n",
    "\n",
    "# Q value of the banner\n",
    "Q = np.zeros(num_loc)\n",
    "\n",
    "# sum of rewards obtained by the banner\n",
    "sum_rewards = np.zeros(num_loc)"
   ]
  },
  {
   "cell_type": "markdown",
   "metadata": {},
   "source": [
    " Now we define the epsilon greedy policy"
   ]
  },
  {
   "cell_type": "code",
   "execution_count": 5,
   "metadata": {
    "ExecuteTime": {
     "end_time": "2021-06-06T04:56:45.331797Z",
     "start_time": "2021-06-06T04:56:45.323593Z"
    }
   },
   "outputs": [],
   "source": [
    "def epsilon_greedy(epsilon):\n",
    "    \n",
    "    random_value = np.random.random()\n",
    "    choose_random = random_value < epsilon\n",
    "    \n",
    "    if choose_random:\n",
    "        action =  np.random.choice(num_loc)\n",
    "    else:\n",
    "        action = np.argmax(Q)\n",
    "    \n",
    "    return action\n"
   ]
  },
  {
   "cell_type": "code",
   "execution_count": 6,
   "metadata": {
    "ExecuteTime": {
     "end_time": "2021-06-06T04:56:47.114733Z",
     "start_time": "2021-06-06T04:56:47.069906Z"
    }
   },
   "outputs": [
    {
     "name": "stdout",
     "output_type": "stream",
     "text": [
      "[0.5        0.5106383  0.50561798 0.45833333 0.51162791 0.46774194\n",
      " 0.50971922 0.46774194]\n",
      "[ 72.  94.  89.  72.  86.  62. 463.  62.]\n",
      "[ 36.  48.  45.  33.  44.  29. 236.  29.]\n",
      "[2, 2, 4, 2, 0, 2, 2, 2, 2, 5, 7, 5, 0, 1, 1, 1, 5, 3, 5, 2, 2, 4, 4, 1, 2, 4, 2, 2, 7, 1, 7, 2, 4, 2, 6, 3, 2, 6, 4, 2, 1, 1, 1, 1, 1, 1, 1, 1, 2, 1, 3, 3, 1, 1, 6, 1, 1, 1, 7, 6, 1, 4, 0, 1, 6, 0, 1, 3, 3, 1, 3, 3, 3, 1, 0, 5, 3, 6, 6, 1, 5, 6, 7, 4, 1, 6, 6, 6, 1, 6, 5, 1, 1, 1, 6, 3, 6, 6, 6, 7, 5, 6, 6, 1, 6, 3, 0, 6, 6, 2, 6, 6, 0, 5, 6, 5, 2, 6, 6, 6, 1, 2, 2, 6, 6, 5, 3, 6, 6, 6, 6, 6, 1, 1, 1, 5, 5, 1, 5, 6, 6, 1, 6, 4, 4, 0, 7, 4, 4, 4, 6, 6, 4, 4, 0, 2, 6, 4, 6, 7, 4, 7, 1, 4, 4, 1, 4, 4, 0, 6, 0, 1, 3, 0, 3, 7, 0, 3, 6, 6, 0, 0, 4, 6, 4, 0, 0, 0, 6, 0, 1, 0, 0, 5, 7, 0, 0, 0, 7, 6, 6, 2, 6, 6, 6, 2, 6, 3, 1, 6, 6, 6, 3, 7, 7, 0, 1, 1, 0, 6, 4, 6, 2, 6, 6, 5, 0, 1, 6, 5, 2, 1, 4, 3, 5, 3, 4, 4, 6, 6, 4, 6, 6, 6, 1, 6, 0, 6, 6, 2, 6, 7, 6, 5, 6, 3, 6, 6, 6, 6, 4, 6, 1, 2, 6, 5, 6, 4, 6, 0, 0, 3, 6, 1, 3, 2, 6, 3, 6, 6, 6, 6, 0, 6, 2, 6, 6, 6, 6, 3, 4, 3, 3, 0, 2, 3, 3, 6, 4, 6, 2, 5, 6, 3, 6, 3, 6, 0, 1, 7, 4, 1, 6, 2, 6, 3, 5, 6, 6, 7, 5, 7, 2, 6, 6, 4, 0, 6, 6, 5, 6, 4, 6, 4, 3, 0, 6, 2, 4, 0, 4, 6, 6, 7, 1, 7, 6, 6, 6, 3, 6, 6, 6, 1, 2, 6, 6, 3, 7, 4, 7, 6, 6, 6, 3, 6, 6, 6, 5, 6, 1, 6, 0, 6, 6, 6, 5, 7, 6, 6, 6, 6, 0, 0, 7, 3, 6, 4, 6, 0, 6, 6, 0, 6, 6, 5, 4, 4, 7, 6, 6, 6, 5, 6, 6, 5, 6, 6, 7, 4, 6, 6, 2, 3, 6, 6, 6, 7, 6, 4, 4, 6, 6, 4, 6, 2, 7, 6, 6, 6, 7, 6, 7, 6, 3, 6, 6, 4, 6, 6, 5, 3, 6, 1, 6, 6, 0, 6, 6, 6, 6, 6, 3, 1, 6, 6, 6, 6, 2, 5, 3, 2, 7, 6, 4, 6, 4, 6, 6, 7, 6, 7, 5, 6, 3, 4, 5, 6, 2, 1, 6, 6, 6, 2, 6, 5, 6, 2, 4, 6, 6, 6, 6, 0, 6, 5, 6, 0, 6, 6, 7, 6, 6, 5, 6, 3, 5, 2, 6, 3, 6, 1, 6, 0, 6, 1, 6, 6, 0, 5, 6, 6, 6, 6, 5, 5, 6, 6, 6, 3, 5, 2, 6, 3, 6, 6, 6, 6, 6, 6, 2, 1, 6, 6, 1, 6, 6, 6, 7, 6, 6, 6, 6, 2, 6, 6, 6, 6, 0, 6, 5, 6, 4, 5, 6, 4, 6, 6, 3, 0, 0, 6, 1, 6, 6, 6, 5, 6, 4, 5, 6, 0, 2, 6, 6, 1, 6, 5, 2, 6, 6, 4, 2, 6, 3, 4, 6, 6, 4, 6, 6, 6, 6, 6, 6, 6, 6, 4, 6, 6, 1, 1, 0, 6, 4, 6, 6, 6, 2, 1, 6, 6, 6, 6, 5, 6, 3, 2, 1, 6, 2, 6, 6, 6, 6, 4, 0, 6, 6, 4, 6, 1, 6, 5, 2, 6, 6, 6, 6, 6, 4, 6, 2, 6, 3, 6, 6, 2, 5, 6, 0, 6, 6, 6, 6, 6, 1, 6, 6, 6, 6, 6, 6, 6, 3, 6, 0, 6, 6, 0, 6, 6, 0, 0, 6, 3, 6, 6, 5, 3, 0, 6, 3, 1, 5, 5, 6, 6, 6, 5, 6, 0, 6, 2, 6, 6, 2, 6, 6, 6, 6, 7, 6, 6, 6, 6, 4, 2, 2, 6, 6, 6, 6, 0, 7, 6, 6, 6, 2, 7, 6, 6, 6, 6, 3, 6, 2, 6, 6, 6, 6, 0, 2, 6, 6, 6, 6, 2, 4, 6, 6, 6, 5, 6, 5, 6, 0, 3, 6, 2, 1, 5, 6, 6, 6, 7, 6, 6, 6, 6, 6, 4, 4, 6, 7, 2, 2, 6, 6, 1, 6, 6, 7, 3, 7, 1, 2, 6, 6, 6, 6, 1, 6, 2, 6, 6, 6, 1, 6, 6, 6, 6, 6, 6, 6, 6, 7, 7, 1, 6, 7, 6, 6, 6, 6, 3, 1, 1, 7, 6, 6, 7, 6, 6, 2, 6, 6, 6, 6, 6, 6, 7, 6, 3, 6, 6, 1, 1, 6, 3, 6, 6, 6, 6, 6, 6, 4, 2, 1, 2, 6, 0, 6, 6, 6, 6, 6, 6, 4, 6, 1, 6, 6, 7, 1, 3, 6, 0, 2, 7, 6, 4, 4, 1, 3, 6, 6, 5, 6, 3, 4, 4, 6, 6, 4, 6, 5, 1, 7, 6, 6, 5, 6, 6, 6, 7, 4, 6, 6, 4, 7, 3, 6, 6, 6, 6, 1, 1, 5, 6, 6, 3, 2, 6, 2, 2, 6, 0, 2, 6, 1, 4, 1, 2, 6, 3, 0, 4, 2, 7, 2, 6, 2, 4, 2, 4, 2, 4, 3, 3, 2, 6, 3, 1, 2, 2, 6, 0, 4, 1, 2, 0, 5, 6, 6, 6, 1, 3, 2, 5, 1, 7, 6, 6, 6, 6, 7, 4, 6, 0, 6, 6, 6, 1, 4, 6, 7, 6, 0, 7, 6, 0, 6, 7, 6, 6, 7, 4, 2, 0, 3, 6, 6, 6, 7, 6, 4, 7, 4, 6]\n"
     ]
    }
   ],
   "source": [
    "for i in range(no_of_iterations):\n",
    "    \n",
    "    # select the banner using epsilon greedy policy\n",
    "    loc = epsilon_greedy(0.5)\n",
    "        \n",
    "    # get the reward\n",
    "    reward = df.values[i, loc]\n",
    "           \n",
    "    # update the selected banner count\n",
    "    count[loc] += 1\n",
    "    \n",
    "    # sum the rewards obtained by that banner\n",
    "    sum_rewards[loc]+=reward\n",
    "    \n",
    "    # calculate the Q value of the banner\n",
    "    Q[loc] = sum_rewards[loc]/count[loc]\n",
    "    \n",
    "    loc_selected.append(loc)    \n",
    "   \n",
    "print(Q)\n",
    "print(count)\n",
    "print(sum_rewards)\n",
    "print(loc_selected)"
   ]
  },
  {
   "cell_type": "markdown",
   "metadata": {},
   "source": [
    "We can plot and see which banner type gives us most clicks(rewards)"
   ]
  },
  {
   "cell_type": "code",
   "execution_count": 7,
   "metadata": {
    "ExecuteTime": {
     "end_time": "2021-06-06T04:56:49.520402Z",
     "start_time": "2021-06-06T04:56:49.355954Z"
    }
   },
   "outputs": [
    {
     "name": "stderr",
     "output_type": "stream",
     "text": [
      "/Users/hyebin/opt/anaconda3/lib/python3.8/site-packages/seaborn/distributions.py:2551: FutureWarning: `distplot` is a deprecated function and will be removed in a future version. Please adapt your code to use either `displot` (a figure-level function with similar flexibility) or `histplot` (an axes-level function for histograms).\n",
      "  warnings.warn(msg, FutureWarning)\n"
     ]
    },
    {
     "data": {
      "text/plain": [
       "<AxesSubplot:ylabel='Density'>"
      ]
     },
     "execution_count": 7,
     "metadata": {},
     "output_type": "execute_result"
    },
    {
     "data": {
      "image/png": "[encoded data removed]",
      "text/plain": [
       "<Figure size 432x288 with 1 Axes>"
      ]
     },
     "metadata": {
      "needs_background": "light"
     },
     "output_type": "display_data"
    }
   ],
   "source": [
    "sns.distplot(loc_selected)"
   ]
  },
  {
   "cell_type": "code",
   "execution_count": null,
   "metadata": {},
   "outputs": [],
   "source": []
  }
 ],
 "metadata": {
  "kernelspec": {
   "display_name": "Python 3",
   "language": "python",
   "name": "python3"
  },
  "language_info": {
   "codemirror_mode": {
    "name": "ipython",
    "version": 3
   },
   "file_extension": ".py",
   "mimetype": "text/x-python",
   "name": "python",
   "nbconvert_exporter": "python",
   "pygments_lexer": "ipython3",
   "version": "3.8.5"
  },
  "toc": {
   "base_numbering": 1,
   "nav_menu": {},
   "number_sections": true,
   "sideBar": true,
   "skip_h1_title": false,
   "title_cell": "Table of Contents",
   "title_sidebar": "Contents",
   "toc_cell": false,
   "toc_position": {},
   "toc_section_display": true,
   "toc_window_display": false
  }
 },
 "nbformat": 4,
 "nbformat_minor": 2
}
